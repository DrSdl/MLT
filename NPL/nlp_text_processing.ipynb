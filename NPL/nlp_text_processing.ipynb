{
 "cells": [
  {
   "cell_type": "markdown",
   "metadata": {},
   "source": [
    "# Text Processing\n",
    "\n",
    "## Capturing Text Data\n",
    "\n",
    "### Plain Text"
   ]
  },
  {
   "cell_type": "code",
   "execution_count": 1,
   "metadata": {},
   "outputs": [
    {
     "name": "stdout",
     "output_type": "stream",
     "text": [
      "Hieroglyphic writing dates from c. 3000 BC, and is composed of hundreds of symbols. A hieroglyph can represent a word, a sound, or a silent determinative; and the same symbol can serve different purposes in different contexts. Hieroglyphs were a formal script, used on stone monuments and in tombs, that could be as detailed as individual works of art.\n",
      "\n"
     ]
    }
   ],
   "source": [
    "import os\n",
    "\n",
    "# Read in a plain text file\n",
    "with open(os.path.join(\"data\", \"hieroglyph.txt\"), \"r\") as f:\n",
    "    text = f.read()\n",
    "    print(text)"
   ]
  },
  {
   "cell_type": "markdown",
   "metadata": {},
   "source": [
    "### Tabular Data"
   ]
  },
  {
   "cell_type": "code",
   "execution_count": 2,
   "metadata": {
    "scrolled": true
   },
   "outputs": [
    {
     "data": {
      "text/html": [
       "<div>\n",
       "<style scoped>\n",
       "    .dataframe tbody tr th:only-of-type {\n",
       "        vertical-align: middle;\n",
       "    }\n",
       "\n",
       "    .dataframe tbody tr th {\n",
       "        vertical-align: top;\n",
       "    }\n",
       "\n",
       "    .dataframe thead th {\n",
       "        text-align: right;\n",
       "    }\n",
       "</style>\n",
       "<table border=\"1\" class=\"dataframe\">\n",
       "  <thead>\n",
       "    <tr style=\"text-align: right;\">\n",
       "      <th></th>\n",
       "      <th>publisher</th>\n",
       "      <th>title</th>\n",
       "    </tr>\n",
       "  </thead>\n",
       "  <tbody>\n",
       "    <tr>\n",
       "      <th>0</th>\n",
       "      <td>Livemint</td>\n",
       "      <td>fed's charles plosser sees high bar for change...</td>\n",
       "    </tr>\n",
       "    <tr>\n",
       "      <th>1</th>\n",
       "      <td>IFA Magazine</td>\n",
       "      <td>us open: stocks fall after fed official hints ...</td>\n",
       "    </tr>\n",
       "    <tr>\n",
       "      <th>2</th>\n",
       "      <td>IFA Magazine</td>\n",
       "      <td>fed risks falling 'behind the curve', charles ...</td>\n",
       "    </tr>\n",
       "    <tr>\n",
       "      <th>3</th>\n",
       "      <td>Moneynews</td>\n",
       "      <td>fed's plosser: nasty weather has curbed job gr...</td>\n",
       "    </tr>\n",
       "    <tr>\n",
       "      <th>4</th>\n",
       "      <td>NASDAQ</td>\n",
       "      <td>plosser: fed may have to accelerate tapering pace</td>\n",
       "    </tr>\n",
       "  </tbody>\n",
       "</table>\n",
       "</div>"
      ],
      "text/plain": [
       "      publisher                                              title\n",
       "0      Livemint  fed's charles plosser sees high bar for change...\n",
       "1  IFA Magazine  us open: stocks fall after fed official hints ...\n",
       "2  IFA Magazine  fed risks falling 'behind the curve', charles ...\n",
       "3     Moneynews  fed's plosser: nasty weather has curbed job gr...\n",
       "4        NASDAQ  plosser: fed may have to accelerate tapering pace"
      ]
     },
     "execution_count": 2,
     "metadata": {},
     "output_type": "execute_result"
    }
   ],
   "source": [
    "import pandas as pd\n",
    "\n",
    "# Extract text column from a dataframe\n",
    "df = pd.read_csv(os.path.join(\"data\", \"news.csv\"))\n",
    "df.head()[['publisher', 'title']]\n",
    "\n",
    "# Convert text column to lowercase\n",
    "df['title'] = df['title'].str.lower()\n",
    "df.head()[['publisher', 'title']]"
   ]
  },
  {
   "cell_type": "markdown",
   "metadata": {},
   "source": [
    "### Online Resource"
   ]
  },
  {
   "cell_type": "code",
   "execution_count": 3,
   "metadata": {
    "scrolled": true
   },
   "outputs": [
    {
     "name": "stdout",
     "output_type": "stream",
     "text": [
      "{\n",
      "    \"success\": {\n",
      "        \"total\": 1\n",
      "    },\n",
      "    \"contents\": {\n",
      "        \"quotes\": [\n",
      "            {\n",
      "                \"quote\": \"Successful people appear to be traveling along one continual, successful road. What is not apparent is the perseverance it takes following each defeat to keep you on that road. No one I know of has ever experienced one success after another without defeats, failures, disappointments, and frustrations galore along the way. Learning to overcome those times of agony is what separates the winners from the losers.\",\n",
      "                \"author\": \"G. Kingsley Ward\",\n",
      "                \"length\": \"412\",\n",
      "                \"tags\": [\n",
      "                    \"failure\",\n",
      "                    \"inspire\",\n",
      "                    \"perseverance\",\n",
      "                    \"success\",\n",
      "                    \"winning\"\n",
      "                ],\n",
      "                \"category\": \"inspire\",\n",
      "                \"title\": \"Inspiring Quote of the day\",\n",
      "                \"date\": \"2019-05-26\",\n",
      "                \"id\": null\n",
      "            }\n",
      "        ],\n",
      "        \"copyright\": \"2017-19 theysaidso.com\"\n",
      "    }\n",
      "}\n",
      "Successful people appear to be traveling along one continual, successful road. What is not apparent is the perseverance it takes following each defeat to keep you on that road. No one I know of has ever experienced one success after another without defeats, failures, disappointments, and frustrations galore along the way. Learning to overcome those times of agony is what separates the winners from the losers. \n",
      "-- G. Kingsley Ward\n"
     ]
    }
   ],
   "source": [
    "import requests\n",
    "import json\n",
    "\n",
    "# Fetch data from a REST API\n",
    "r = requests.get(\n",
    "    \"https://quotes.rest/qod.json\")\n",
    "res = r.json()\n",
    "print(json.dumps(res, indent=4))\n",
    "\n",
    "# Extract relevant object and field\n",
    "q = res[\"contents\"][\"quotes\"][0]\n",
    "print(q[\"quote\"], \"\\n--\", q[\"author\"])"
   ]
  },
  {
   "cell_type": "markdown",
   "metadata": {},
   "source": [
    "## Cleaning"
   ]
  },
  {
   "cell_type": "code",
   "execution_count": 4,
   "metadata": {
    "scrolled": true
   },
   "outputs": [
    {
     "name": "stdout",
     "output_type": "stream",
     "text": [
      "<html op=\"news\"><head><meta name=\"referrer\" content=\"origin\"><meta name=\"viewport\" content=\"width=device-width, initial-scale=1.0\"><link rel=\"stylesheet\" type=\"text/css\" href=\"news.css?JVR7p5qVqgl735PBfFQB\">\n",
      "            <link rel=\"shortcut icon\" href=\"favicon.ico\">\n",
      "          <link rel=\"alternate\" type=\"application/rss+xml\" title=\"RSS\" href=\"rss\">\n",
      "        <title>Hacker News</title></head><body><center><table id=\"hnmain\" border=\"0\" cellpadding=\"0\" cellspacing=\"0\" width=\"85%\" bgcolor=\"#f6f6ef\">\n",
      "        <tr><td bgcolor=\"#ff6600\"><table border=\"0\" cellpadding=\"0\" cellspacing=\"0\" width=\"100%\" style=\"padding:2px\"><tr><td style=\"width:18px;padding-right:4px\"><a href=\"https://news.ycombinator.com\"><img src=\"y18.gif\" width=\"18\" height=\"18\" style=\"border:1px white solid;\"></a></td>\n",
      "                  <td style=\"line-height:12pt; height:10px;\"><span class=\"pagetop\"><b class=\"hnname\"><a href=\"news\">Hacker News</a></b>\n",
      "              <a href=\"newest\">new</a> | <a href=\"front\">past</a> | <a href=\"newcomments\">comments</a> | <a href=\"ask\">ask</a> | <a href=\"show\">show</a> | <a href=\"jobs\">jobs</a> | <a href=\"submit\">submit</a>            </span></td><td style=\"text-align:right;padding-right:4px;\"><span class=\"pagetop\">\n",
      "                              <a href=\"login?goto=news\">login</a>\n",
      "                          </span></td>\n",
      "              </tr></table></td></tr>\n",
      "<tr id=\"pagespace\" title=\"\" style=\"height:10px\"></tr><tr><td><table border=\"0\" cellpadding=\"0\" cellspacing=\"0\" class=\"itemlist\">\n",
      "              <tr class='athing' id='20015968'>\n",
      "      <td align=\"right\" valign=\"top\" class=\"title\"><span class=\"rank\">1.</span></td>      <td valign=\"top\" class=\"votelinks\"><center><a id='up_20015968' href='vote?id=20015968&amp;how=up&amp;goto=news'><div class='votearrow' title='upvote'></div></a></center></td><td class=\"title\"><a href=\"https://eggonomy.com/blogs/news/how-fragmented-is-android\" class=\"storylink\">How Fragmented Is Android?</a><span class=\"sitebit comhead\"> (<a href=\"from?site=eggonomy.com\"><span class=\"sitestr\">eggonomy.com</span></a>)</span></td></tr><tr><td colspan=\"2\"></td><td class=\"subtext\">\n",
      "        <span class=\"score\" id=\"score_20015968\">42 points</span> by <a href=\"user?id=tgp22\" class=\"hnuser\">tgp22</a> <span class=\"age\"><a href=\"item?id=20015968\">1 hour ago</a></span> <span id=\"unv_20015968\"></span> | <a href=\"hide?id=20015968&amp;goto=news\">hide</a> | <a href=\"item?id=20015968\">22&nbsp;comments</a>              </td></tr>\n",
      "      <tr class=\"spacer\" style=\"height:5px\"></tr>\n",
      "                <tr class='athing' id='20016126'>\n",
      "      <td align=\"right\" valign=\"top\" class=\"title\"><span class=\"rank\">2.</span></td>      <td valign=\"top\" class=\"votelinks\"><center><a id='up_20016126' href='vote?id=20016126&amp;how=up&amp;goto=news'><div class='votearrow' title='upvote'></div></a></center></td><td class=\"title\"><a href=\"https://github.com/kmkzt/react-hooks-svgdrawing\" class=\"storylink\">React SVG Drawing Library</a><span class=\"sitebit comhead\"> (<a href=\"from?site=github.com\"><span class=\"sitestr\">github.com</span></a>)</span></td></tr><tr><td colspan=\"2\"></td><td class=\"subtext\">\n",
      "        <span class=\"score\" id=\"score_20016126\">21 points</span> by <a href=\"user?id=kmkzt927\" class=\"hnuser\">kmkzt927</a> <span class=\"age\"><a href=\"item?id=20016126\">50 minutes ago</a></span> <span id=\"unv_20016126\"></span> | <a href=\"hide?id=20016126&amp;goto=news\">hide</a> | <a href=\"item?id=20016126\">4&nbsp;comments</a>              </td></tr>\n",
      "      <tr class=\"spacer\" style=\"height:5px\"></tr>\n",
      "                <tr class='athing' id='20015633'>\n",
      "      <td align=\"right\" valign=\"top\" class=\"title\"><span class=\"rank\">3.</span></td>      <td valign=\"top\" class=\"votelinks\"><center><a id='up_20015633' href='vote?id=20015633&amp;how=up&amp;goto=news'><div class='votearrow' title='upvote'></div></a></center></td><td class=\"title\"><a href=\"https://www.anandtech.com/show/14402/intel-announces-5-ghz-all-core-turbo-cpu\" class=\"storylink\">Intel Announces 8 Core I9-9900KS: Every Core at 5Ghz, All the Time</a><span class=\"sitebit comhead\"> (<a href=\"from?site=anandtech.com\"><span class=\"sitestr\">anandtech.com</span></a>)</span></td></tr><tr><td colspan=\"2\"></td><td class=\"subtext\">\n",
      "        <span class=\"score\" id=\"score_20015633\">81 points</span> by <a href=\"user?id=Doubleguitars\" class=\"hnuser\">Doubleguitars</a> <span class=\"age\"><a href=\"item?id=20015633\">2 hours ago</a></span> <span id=\"unv_20015633\"></span> | <a href=\"hide?id=20015633&amp;goto=news\">hide</a> | <a href=\"item?id=20015633\">66&nbsp;comments</a>              </td></tr>\n",
      "      <tr class=\"spacer\" style=\"height:5px\"></tr>\n",
      "                <tr class='athing' id='20015109'>\n",
      "      <td align=\"right\" valign=\"top\" class=\"title\"><span class=\"rank\">4.</span></td>      <td valign=\"top\" class=\"votelinks\"><center><a id='up_20015109' href='vote?id=20015109&amp;how=up&amp;goto=news'><div class='votearrow' title='upvote'></div></a></center></td><td class=\"title\"><a href=\"https://blog.heuritech.com/2016/04/15/knowledge-extraction-from-unstructured-texts/\" class=\"storylink\">Knowledge Extraction from Unstructured Texts</a><span class=\"sitebit comhead\"> (<a href=\"from?site=heuritech.com\"><span class=\"sitestr\">heuritech.com</span></a>)</span></td></tr><tr><td colspan=\"2\"></td><td class=\"subtext\">\n",
      "        <span class=\"score\" id=\"score_20015109\">104 points</span> by <a href=\"user?id=homarp\" class=\"hnuser\">homarp</a> <span class=\"age\"><a href=\"item?id=20015109\">3 hours ago</a></span> <span id=\"unv_20015109\"></span> | <a href=\"hide?id=20015109&amp;goto=news\">hide</a> | <a href=\"item?id=20015109\">6&nbsp;comments</a>              </td></tr>\n",
      "      <tr class=\"spacer\" style=\"height:5px\"></tr>\n",
      "                <tr class='athing' id='20015760'>\n",
      "      <td align=\"right\" valign=\"top\" class=\"title\"><span class=\"rank\">5.</span></td>      <td valign=\"top\" class=\"votelinks\"><center><a id='up_20015760' href='vote?id=20015760&amp;how=up&amp;goto=news'><div class='votearrow' title='upvote'></div></a></center></td><td class=\"title\"><a href=\"https://www.thezdi.com/blog/2019/5/21/rce-without-native-code-exploitation-of-a-write-what-where-in-internet-explorer\" class=\"storylink\">RCE Without Native Code: Exploitation of a Write-What-Where in Internet Explorer</a><span class=\"sitebit comhead\"> (<a href=\"from?site=thezdi.com\"><span class=\"sitestr\">thezdi.com</span></a>)</span></td></tr><tr><td colspan=\"2\"></td><td class=\"subtext\">\n",
      "        <span class=\"score\" id=\"score_20015760\">18 points</span> by <a href=\"user?id=twoodfin\" class=\"hnuser\">twoodfin</a> <span class=\"age\"><a href=\"item?id=20015760\">1 hour ago</a></span> <span id=\"unv_20015760\"></span> | <a href=\"hide?id=20015760&amp;goto=news\">hide</a> | <a href=\"item?id=20015760\">discuss</a>              </td></tr>\n",
      "      <tr class=\"spacer\" style=\"height:5px\"></tr>\n",
      "                <tr class='athing' id='20014691'>\n",
      "      <td align=\"right\" valign=\"top\" class=\"title\"><span class=\"rank\">6.</span></td>      <td valign=\"top\" class=\"votelinks\"><center><a id='up_20014691' href='vote?id=20014691&amp;how=up&amp;goto=news'><div class='votearrow' title='upvote'></div></a></center></td><td class=\"title\"><a href=\"https://typesandtimes.net/2019/05/royal-astronomical-society-python\" class=\"storylink\">What the Royal Astronomical Society in 1884 Tells Us About Python Today</a><span class=\"sitebit comhead\"> (<a href=\"from?site=typesandtimes.net\"><span class=\"sitestr\">typesandtimes.net</span></a>)</span></td></tr><tr><td colspan=\"2\"></td><td class=\"subtext\">\n",
      "        <span class=\"score\" id=\"score_20014691\">91 points</span> by <a href=\"user?id=skilpat\" class=\"hnuser\">skilpat</a> <span class=\"age\"><a href=\"item?id=20014691\">5 hours ago</a></span> <span id=\"unv_20014691\"></span> | <a href=\"hide?id=20014691&amp;goto=news\">hide</a> | <a href=\"item?id=20014691\">25&nbsp;comments</a>              </td></tr>\n",
      "      <tr class=\"spacer\" style=\"height:5px\"></tr>\n",
      "                <tr class='athing' id='20015775'>\n",
      "      <td align=\"right\" valign=\"top\" class=\"title\"><span class=\"rank\">7.</span></td>      <td valign=\"top\" class=\"votelinks\"><center><a id='up_20015775' href='vote?id=20015775&amp;how=up&amp;goto=news'><div class='votearrow' title='upvote'></div></a></center></td><td class=\"title\"><a href=\"item?id=20015775\" class=\"storylink\">Ask HN: How do I make sure my non-technical parents are safe online?</a></td></tr><tr><td colspan=\"2\"></td><td class=\"subtext\">\n",
      "        <span class=\"score\" id=\"score_20015775\">57 points</span> by <a href=\"user?id=nellypat\" class=\"hnuser\">nellypat</a> <span class=\"age\"><a href=\"item?id=20015775\">1 hour ago</a></span> <span id=\"unv_20015775\"></span> | <a href=\"hide?id=20015775&amp;goto=news\">hide</a> | <a href=\"item?id=20015775\">48&nbsp;comments</a>              </td></tr>\n",
      "      <tr class=\"spacer\" style=\"height:5px\"></tr>\n",
      "                <tr class='athing' id='20014388'>\n",
      "      <td align=\"right\" valign=\"top\" class=\"title\"><span class=\"rank\">8.</span></td>      <td valign=\"top\" class=\"votelinks\"><center><a id='up_20014388' href='vote?id=20014388&amp;how=up&amp;goto=news'><div class='votearrow' title='upvote'></div></a></center></td><td class=\"title\"><a href=\"https://shkspr.mobi/blog/2019/05/warning-do-not-click-on-twitter-ads/\" class=\"storylink\">Twitter accounts are being hijacked for spam</a><span class=\"sitebit comhead\"> (<a href=\"from?site=shkspr.mobi\"><span class=\"sitestr\">shkspr.mobi</span></a>)</span></td></tr><tr><td colspan=\"2\"></td><td class=\"subtext\">\n",
      "        <span class=\"score\" id=\"score_20014388\">101 points</span> by <a href=\"user?id=edent\" class=\"hnuser\">edent</a> <span class=\"age\"><a href=\"item?id=20014388\">6 hours ago</a></span> <span id=\"unv_20014388\"></span> | <a href=\"hide?id=20014388&amp;goto=news\">hide</a> | <a href=\"item?id=20014388\">28&nbsp;comments</a>              </td></tr>\n",
      "      <tr class=\"spacer\" style=\"height:5px\"></tr>\n",
      "                <tr class='athing' id='20014030'>\n",
      "      <td align=\"right\" valign=\"top\" class=\"title\"><span class=\"rank\">9.</span></td>      <td valign=\"top\" class=\"votelinks\"><center><a id='up_20014030' href='vote?id=20014030&amp;how=up&amp;goto=news'><div class='votearrow' title='upvote'></div></a></center></td><td class=\"title\"><a href=\"https://artur-martsinkovskyi.github.io/2018/logical-fallacies-in-programming/\" class=\"storylink\">Logical fallacies in software engineering</a><span class=\"sitebit comhead\"> (<a href=\"from?site=artur-martsinkovskyi.github.io\"><span class=\"sitestr\">artur-martsinkovskyi.github.io</span></a>)</span></td></tr><tr><td colspan=\"2\"></td><td class=\"subtext\">\n",
      "        <span class=\"score\" id=\"score_20014030\">132 points</span> by <a href=\"user?id=gentleterror\" class=\"hnuser\">gentleterror</a> <span class=\"age\"><a href=\"item?id=20014030\">8 hours ago</a></span> <span id=\"unv_20014030\"></span> | <a href=\"hide?id=20014030&amp;goto=news\">hide</a> | <a href=\"item?id=20014030\">87&nbsp;comments</a>              </td></tr>\n",
      "      <tr class=\"spacer\" style=\"height:5px\"></tr>\n",
      "                <tr class='athing' id='20014184'>\n",
      "      <td align=\"right\" valign=\"top\" class=\"title\"><span class=\"rank\">10.</span></td>      <td valign=\"top\" class=\"votelinks\"><center><a id='up_20014184' href='vote?id=20014184&amp;how=up&amp;goto=news'><div class='votearrow' title='upvote'></div></a></center></td><td class=\"title\"><a href=\"https://bothsidesofthetable.com/managing-your-startup-board-a-short-presentation-4d709772bc00\" class=\"storylink\">Managing Your Startup Board</a><span class=\"sitebit comhead\"> (<a href=\"from?site=bothsidesofthetable.com\"><span class=\"sitestr\">bothsidesofthetable.com</span></a>)</span></td></tr><tr><td colspan=\"2\"></td><td class=\"subtext\">\n",
      "        <span class=\"score\" id=\"score_20014184\">36 points</span> by <a href=\"user?id=mooreds\" class=\"hnuser\">mooreds</a> <span class=\"age\"><a href=\"item?id=20014184\">5 hours ago</a></span> <span id=\"unv_20014184\"></span> | <a href=\"hide?id=20014184&amp;goto=news\">hide</a> | <a href=\"item?id=20014184\">1&nbsp;comment</a>              </td></tr>\n",
      "      <tr class=\"spacer\" style=\"height:5px\"></tr>\n",
      "                <tr class='athing' id='20014233'>\n",
      "      <td align=\"right\" valign=\"top\" class=\"title\"><span class=\"rank\">11.</span></td>      <td valign=\"top\" class=\"votelinks\"><center><a id='up_20014233' href='vote?id=20014233&amp;how=up&amp;goto=news'><div class='votearrow' title='upvote'></div></a></center></td><td class=\"title\"><a href=\"https://digit.fyi/scotland-to-house-largest-tidal-turbine-on-the-planet/\" class=\"storylink\">Scotland to House Largest Tidal Turbine</a><span class=\"sitebit comhead\"> (<a href=\"from?site=digit.fyi\"><span class=\"sitestr\">digit.fyi</span></a>)</span></td></tr><tr><td colspan=\"2\"></td><td class=\"subtext\">\n",
      "        <span class=\"score\" id=\"score_20014233\">68 points</span> by <a href=\"user?id=digighoul\" class=\"hnuser\">digighoul</a> <span class=\"age\"><a href=\"item?id=20014233\">7 hours ago</a></span> <span id=\"unv_20014233\"></span> | <a href=\"hide?id=20014233&amp;goto=news\">hide</a> | <a href=\"item?id=20014233\">15&nbsp;comments</a>              </td></tr>\n",
      "      <tr class=\"spacer\" style=\"height:5px\"></tr>\n",
      "                <tr class='athing' id='20012231'>\n",
      "      <td align=\"right\" valign=\"top\" class=\"title\"><span class=\"rank\">12.</span></td>      <td valign=\"top\" class=\"votelinks\"><center><a id='up_20012231' href='vote?id=20012231&amp;how=up&amp;goto=news'><div class='votearrow' title='upvote'></div></a></center></td><td class=\"title\"><a href=\"https://www.nytimes.com/2019/05/24/opinion/why-fiction-trumps-truth.html\" class=\"storylink\" rel=\"nofollow\">Why Fiction Beats Truth</a><span class=\"sitebit comhead\"> (<a href=\"from?site=nytimes.com\"><span class=\"sitestr\">nytimes.com</span></a>)</span></td></tr><tr><td colspan=\"2\"></td><td class=\"subtext\">\n",
      "        <span class=\"score\" id=\"score_20012231\">8 points</span> by <a href=\"user?id=tlb\" class=\"hnuser\">tlb</a> <span class=\"age\"><a href=\"item?id=20012231\">2 hours ago</a></span> <span id=\"unv_20012231\"></span> | <a href=\"hide?id=20012231&amp;goto=news\">hide</a> | <a href=\"item?id=20012231\">1&nbsp;comment</a>              </td></tr>\n",
      "      <tr class=\"spacer\" style=\"height:5px\"></tr>\n",
      "                <tr class='athing' id='20015944'>\n",
      "      <td align=\"right\" valign=\"top\" class=\"title\"><span class=\"rank\">13.</span></td>      <td valign=\"top\" class=\"votelinks\"><center><a id='up_20015944' href='vote?id=20015944&amp;how=up&amp;goto=news'><div class='votearrow' title='upvote'></div></a></center></td><td class=\"title\"><a href=\"https://docs.google.com/presentation/d/1DpxBRSE2FwxNazRMUOozf-MVRChCqCr7m7p1Fl_gx4U/edit#slide=id.p6\" class=\"storylink\">Google's New Manager Student Workbook</a><span class=\"sitebit comhead\"> (<a href=\"from?site=docs.google.com\"><span class=\"sitestr\">docs.google.com</span></a>)</span></td></tr><tr><td colspan=\"2\"></td><td class=\"subtext\">\n",
      "        <span class=\"score\" id=\"score_20015944\">20 points</span> by <a href=\"user?id=hliyan\" class=\"hnuser\">hliyan</a> <span class=\"age\"><a href=\"item?id=20015944\">1 hour ago</a></span> <span id=\"unv_20015944\"></span> | <a href=\"hide?id=20015944&amp;goto=news\">hide</a> | <a href=\"item?id=20015944\">1&nbsp;comment</a>              </td></tr>\n",
      "      <tr class=\"spacer\" style=\"height:5px\"></tr>\n",
      "                <tr class='athing' id='20014348'>\n",
      "      <td align=\"right\" valign=\"top\" class=\"title\"><span class=\"rank\">14.</span></td>      <td valign=\"top\" class=\"votelinks\"><center><a id='up_20014348' href='vote?id=20014348&amp;how=up&amp;goto=news'><div class='votearrow' title='upvote'></div></a></center></td><td class=\"title\"><a href=\"http://aegis.sourceforge.net/auug97.pdf\" class=\"storylink\">Recursive Make Considered Harmful (1997) [pdf]</a><span class=\"sitebit comhead\"> (<a href=\"from?site=sourceforge.net\"><span class=\"sitestr\">sourceforge.net</span></a>)</span></td></tr><tr><td colspan=\"2\"></td><td class=\"subtext\">\n",
      "        <span class=\"score\" id=\"score_20014348\">43 points</span> by <a href=\"user?id=Tomte\" class=\"hnuser\">Tomte</a> <span class=\"age\"><a href=\"item?id=20014348\">6 hours ago</a></span> <span id=\"unv_20014348\"></span> | <a href=\"hide?id=20014348&amp;goto=news\">hide</a> | <a href=\"item?id=20014348\">31&nbsp;comments</a>              </td></tr>\n",
      "      <tr class=\"spacer\" style=\"height:5px\"></tr>\n",
      "                <tr class='athing' id='20015406'>\n",
      "      <td align=\"right\" valign=\"top\" class=\"title\"><span class=\"rank\">15.</span></td>      <td valign=\"top\" class=\"votelinks\"><center><a id='up_20015406' href='vote?id=20015406&amp;how=up&amp;goto=news'><div class='votearrow' title='upvote'></div></a></center></td><td class=\"title\"><a href=\"https://getpolarized.io/2019/05/25/13-lucky-tips-for-using-anki-and-spaced-repetition-2019.html#\" class=\"storylink\">Using Anki and Spaced Repetition</a><span class=\"sitebit comhead\"> (<a href=\"from?site=getpolarized.io\"><span class=\"sitestr\">getpolarized.io</span></a>)</span></td></tr><tr><td colspan=\"2\"></td><td class=\"subtext\">\n",
      "        <span class=\"score\" id=\"score_20015406\">100 points</span> by <a href=\"user?id=burtonator\" class=\"hnuser\">burtonator</a> <span class=\"age\"><a href=\"item?id=20015406\">2 hours ago</a></span> <span id=\"unv_20015406\"></span> | <a href=\"hide?id=20015406&amp;goto=news\">hide</a> | <a href=\"item?id=20015406\">34&nbsp;comments</a>              </td></tr>\n",
      "      <tr class=\"spacer\" style=\"height:5px\"></tr>\n",
      "                <tr class='athing' id='20013598'>\n",
      "      <td align=\"right\" valign=\"top\" class=\"title\"><span class=\"rank\">16.</span></td>      <td valign=\"top\" class=\"votelinks\"><center><a id='up_20013598' href='vote?id=20013598&amp;how=up&amp;goto=news'><div class='votearrow' title='upvote'></div></a></center></td><td class=\"title\"><a href=\"https://advances.sciencemag.org/content/5/3/eaav3801\" class=\"storylink\">Propofol-induced deep sedation reduces emotional episodic memory reconsolidation</a><span class=\"sitebit comhead\"> (<a href=\"from?site=sciencemag.org\"><span class=\"sitestr\">sciencemag.org</span></a>)</span></td></tr><tr><td colspan=\"2\"></td><td class=\"subtext\">\n",
      "        <span class=\"score\" id=\"score_20013598\">104 points</span> by <a href=\"user?id=danieltillett\" class=\"hnuser\">danieltillett</a> <span class=\"age\"><a href=\"item?id=20013598\">10 hours ago</a></span> <span id=\"unv_20013598\"></span> | <a href=\"hide?id=20013598&amp;goto=news\">hide</a> | <a href=\"item?id=20013598\">62&nbsp;comments</a>              </td></tr>\n",
      "      <tr class=\"spacer\" style=\"height:5px\"></tr>\n",
      "                <tr class='athing' id='20015638'>\n",
      "      <td align=\"right\" valign=\"top\" class=\"title\"><span class=\"rank\">17.</span></td>      <td valign=\"top\" class=\"votelinks\"><center><a id='up_20015638' href='vote?id=20015638&amp;how=up&amp;goto=news'><div class='votearrow' title='upvote'></div></a></center></td><td class=\"title\"><a href=\"https://www.npr.org/2019/05/25/722811953/why-suburban-moms-are-delivering-your-groceries\" class=\"storylink\">Suburban moms are delivering groceries</a><span class=\"sitebit comhead\"> (<a href=\"from?site=npr.org\"><span class=\"sitestr\">npr.org</span></a>)</span></td></tr><tr><td colspan=\"2\"></td><td class=\"subtext\">\n",
      "        <span class=\"score\" id=\"score_20015638\">33 points</span> by <a href=\"user?id=hhs\" class=\"hnuser\">hhs</a> <span class=\"age\"><a href=\"item?id=20015638\">2 hours ago</a></span> <span id=\"unv_20015638\"></span> | <a href=\"hide?id=20015638&amp;goto=news\">hide</a> | <a href=\"item?id=20015638\">37&nbsp;comments</a>              </td></tr>\n",
      "      <tr class=\"spacer\" style=\"height:5px\"></tr>\n",
      "                <tr class='athing' id='20008908'>\n",
      "      <td align=\"right\" valign=\"top\" class=\"title\"><span class=\"rank\">18.</span></td>      <td valign=\"top\" class=\"votelinks\"><center><a id='up_20008908' href='vote?id=20008908&amp;how=up&amp;goto=news'><div class='votearrow' title='upvote'></div></a></center></td><td class=\"title\"><a href=\"https://archive.org/details/byte-magazine-1979-08\" class=\"storylink\">Byte Magazine – LISP (1979)</a><span class=\"sitebit comhead\"> (<a href=\"from?site=archive.org\"><span class=\"sitestr\">archive.org</span></a>)</span></td></tr><tr><td colspan=\"2\"></td><td class=\"subtext\">\n",
      "        <span class=\"score\" id=\"score_20008908\">155 points</span> by <a href=\"user?id=tosh\" class=\"hnuser\">tosh</a> <span class=\"age\"><a href=\"item?id=20008908\">14 hours ago</a></span> <span id=\"unv_20008908\"></span> | <a href=\"hide?id=20008908&amp;goto=news\">hide</a> | <a href=\"item?id=20008908\">56&nbsp;comments</a>              </td></tr>\n",
      "      <tr class=\"spacer\" style=\"height:5px\"></tr>\n",
      "                <tr class='athing' id='20015724'>\n",
      "      <td align=\"right\" valign=\"top\" class=\"title\"><span class=\"rank\">19.</span></td>      <td valign=\"top\" class=\"votelinks\"><center><a id='up_20015724' href='vote?id=20015724&amp;how=up&amp;goto=news'><div class='votearrow' title='upvote'></div></a></center></td><td class=\"title\"><a href=\"https://twitter.com/cgbassa/status/1132555579988303872\" class=\"storylink\">Professional astronomers are calculating the cost of the Starlink constellation</a><span class=\"sitebit comhead\"> (<a href=\"from?site=twitter.com\"><span class=\"sitestr\">twitter.com</span></a>)</span></td></tr><tr><td colspan=\"2\"></td><td class=\"subtext\">\n",
      "        <span class=\"score\" id=\"score_20015724\">37 points</span> by <a href=\"user?id=ColinWright\" class=\"hnuser\">ColinWright</a> <span class=\"age\"><a href=\"item?id=20015724\">1 hour ago</a></span> <span id=\"unv_20015724\"></span> | <a href=\"hide?id=20015724&amp;goto=news\">hide</a> | <a href=\"item?id=20015724\">28&nbsp;comments</a>              </td></tr>\n",
      "      <tr class=\"spacer\" style=\"height:5px\"></tr>\n",
      "                <tr class='athing' id='20016061'>\n",
      "      <td align=\"right\" valign=\"top\" class=\"title\"><span class=\"rank\">20.</span></td>      <td valign=\"top\" class=\"votelinks\"><center><a id='up_20016061' href='vote?id=20016061&amp;how=up&amp;goto=news'><div class='votearrow' title='upvote'></div></a></center></td><td class=\"title\"><a href=\"https://www.thenation.com/article/zoning-housing-homeless-segregation/\" class=\"storylink\">Liberal America’s Single-Family Hypocrisy</a><span class=\"sitebit comhead\"> (<a href=\"from?site=thenation.com\"><span class=\"sitestr\">thenation.com</span></a>)</span></td></tr><tr><td colspan=\"2\"></td><td class=\"subtext\">\n",
      "        <span class=\"score\" id=\"score_20016061\">12 points</span> by <a href=\"user?id=johnny313\" class=\"hnuser\">johnny313</a> <span class=\"age\"><a href=\"item?id=20016061\">58 minutes ago</a></span> <span id=\"unv_20016061\"></span> | <a href=\"hide?id=20016061&amp;goto=news\">hide</a> | <a href=\"item?id=20016061\">discuss</a>              </td></tr>\n",
      "      <tr class=\"spacer\" style=\"height:5px\"></tr>\n",
      "                <tr class='athing' id='20003892'>\n",
      "      <td align=\"right\" valign=\"top\" class=\"title\"><span class=\"rank\">21.</span></td>      <td valign=\"top\" class=\"votelinks\"><center><a id='up_20003892' href='vote?id=20003892&amp;how=up&amp;goto=news'><div class='votearrow' title='upvote'></div></a></center></td><td class=\"title\"><a href=\"https://phys.org/news/2019-05-hubble-spies-curious-galaxy-closer.html\" class=\"storylink\">Hubble spies curious galaxy moving a little closer</a><span class=\"sitebit comhead\"> (<a href=\"from?site=phys.org\"><span class=\"sitestr\">phys.org</span></a>)</span></td></tr><tr><td colspan=\"2\"></td><td class=\"subtext\">\n",
      "        <span class=\"score\" id=\"score_20003892\">10 points</span> by <a href=\"user?id=dnetesn\" class=\"hnuser\">dnetesn</a> <span class=\"age\"><a href=\"item?id=20003892\">4 hours ago</a></span> <span id=\"unv_20003892\"></span> | <a href=\"hide?id=20003892&amp;goto=news\">hide</a> | <a href=\"item?id=20003892\">discuss</a>              </td></tr>\n",
      "      <tr class=\"spacer\" style=\"height:5px\"></tr>\n",
      "                <tr class='athing' id='20015386'>\n",
      "      <td align=\"right\" valign=\"top\" class=\"title\"><span class=\"rank\">22.</span></td>      <td></td><td class=\"title\"><a href=\"https://mino-games.workable.com/j/7AC7233C2B\" class=\"storylink\" rel=\"nofollow\">Mino Games (YC W11) Is Hiring Senior Engineers in Montreal, QC</a><span class=\"sitebit comhead\"> (<a href=\"from?site=workable.com\"><span class=\"sitestr\">workable.com</span></a>)</span></td></tr><tr><td colspan=\"2\"></td><td class=\"subtext\">\n",
      "        <span class=\"age\"><a href=\"item?id=20015386\">2 hours ago</a></span> | <a href=\"hide?id=20015386&amp;goto=news\">hide</a>      </td></tr>\n",
      "      <tr class=\"spacer\" style=\"height:5px\"></tr>\n",
      "                <tr class='athing' id='20013486'>\n",
      "      <td align=\"right\" valign=\"top\" class=\"title\"><span class=\"rank\">23.</span></td>      <td valign=\"top\" class=\"votelinks\"><center><a id='up_20013486' href='vote?id=20013486&amp;how=up&amp;goto=news'><div class='votearrow' title='upvote'></div></a></center></td><td class=\"title\"><a href=\"https://www.atarimagazines.com/compute/issue9/030_1_THE_25C_APPLE_II_REAL_TIME_CLOCK.php\" class=\"storylink\">The 25¢ Apple II Real Time Clock (1981)</a><span class=\"sitebit comhead\"> (<a href=\"from?site=atarimagazines.com\"><span class=\"sitestr\">atarimagazines.com</span></a>)</span></td></tr><tr><td colspan=\"2\"></td><td class=\"subtext\">\n",
      "        <span class=\"score\" id=\"score_20013486\">53 points</span> by <a href=\"user?id=lisper\" class=\"hnuser\">lisper</a> <span class=\"age\"><a href=\"item?id=20013486\">11 hours ago</a></span> <span id=\"unv_20013486\"></span> | <a href=\"hide?id=20013486&amp;goto=news\">hide</a> | <a href=\"item?id=20013486\">44&nbsp;comments</a>              </td></tr>\n",
      "      <tr class=\"spacer\" style=\"height:5px\"></tr>\n",
      "                <tr class='athing' id='20014204'>\n",
      "      <td align=\"right\" valign=\"top\" class=\"title\"><span class=\"rank\">24.</span></td>      <td valign=\"top\" class=\"votelinks\"><center><a id='up_20014204' href='vote?id=20014204&amp;how=up&amp;goto=news'><div class='votearrow' title='upvote'></div></a></center></td><td class=\"title\"><a href=\"https://www.autodesk.com/products/eagle/blog/bob-widlar-life-engineering-legend/\" class=\"storylink\">Bob Widlar – The Life of an Engineering Legend</a><span class=\"sitebit comhead\"> (<a href=\"from?site=autodesk.com\"><span class=\"sitestr\">autodesk.com</span></a>)</span></td></tr><tr><td colspan=\"2\"></td><td class=\"subtext\">\n",
      "        <span class=\"score\" id=\"score_20014204\">30 points</span> by <a href=\"user?id=steven741\" class=\"hnuser\">steven741</a> <span class=\"age\"><a href=\"item?id=20014204\">7 hours ago</a></span> <span id=\"unv_20014204\"></span> | <a href=\"hide?id=20014204&amp;goto=news\">hide</a> | <a href=\"item?id=20014204\">6&nbsp;comments</a>              </td></tr>\n",
      "      <tr class=\"spacer\" style=\"height:5px\"></tr>\n",
      "                <tr class='athing' id='20011937'>\n",
      "      <td align=\"right\" valign=\"top\" class=\"title\"><span class=\"rank\">25.</span></td>      <td valign=\"top\" class=\"votelinks\"><center><a id='up_20011937' href='vote?id=20011937&amp;how=up&amp;goto=news'><div class='votearrow' title='upvote'></div></a></center></td><td class=\"title\"><a href=\"https://effectiviology.com/self-distancing-rational-decisions/\" class=\"storylink\">Self-distancing can help you make better decisions</a><span class=\"sitebit comhead\"> (<a href=\"from?site=effectiviology.com\"><span class=\"sitestr\">effectiviology.com</span></a>)</span></td></tr><tr><td colspan=\"2\"></td><td class=\"subtext\">\n",
      "        <span class=\"score\" id=\"score_20011937\">407 points</span> by <a href=\"user?id=EndXA\" class=\"hnuser\">EndXA</a> <span class=\"age\"><a href=\"item?id=20011937\">19 hours ago</a></span> <span id=\"unv_20011937\"></span> | <a href=\"hide?id=20011937&amp;goto=news\">hide</a> | <a href=\"item?id=20011937\">100&nbsp;comments</a>              </td></tr>\n",
      "      <tr class=\"spacer\" style=\"height:5px\"></tr>\n",
      "                <tr class='athing' id='20013616'>\n",
      "      <td align=\"right\" valign=\"top\" class=\"title\"><span class=\"rank\">26.</span></td>      <td valign=\"top\" class=\"votelinks\"><center><a id='up_20013616' href='vote?id=20013616&amp;how=up&amp;goto=news'><div class='votearrow' title='upvote'></div></a></center></td><td class=\"title\"><a href=\"https://www.reuters.com/article/us-bose-lawsuit-idUSKBN17L2BT\" class=\"storylink\">Bose headphones spy on listeners: lawsuit (2017)</a><span class=\"sitebit comhead\"> (<a href=\"from?site=reuters.com\"><span class=\"sitestr\">reuters.com</span></a>)</span></td></tr><tr><td colspan=\"2\"></td><td class=\"subtext\">\n",
      "        <span class=\"score\" id=\"score_20013616\">229 points</span> by <a href=\"user?id=88840-8855\" class=\"hnuser\">88840-8855</a> <span class=\"age\"><a href=\"item?id=20013616\">10 hours ago</a></span> <span id=\"unv_20013616\"></span> | <a href=\"hide?id=20013616&amp;goto=news\">hide</a> | <a href=\"item?id=20013616\">128&nbsp;comments</a>              </td></tr>\n",
      "      <tr class=\"spacer\" style=\"height:5px\"></tr>\n",
      "                <tr class='athing' id='20012687'>\n",
      "      <td align=\"right\" valign=\"top\" class=\"title\"><span class=\"rank\">27.</span></td>      <td valign=\"top\" class=\"votelinks\"><center><a id='up_20012687' href='vote?id=20012687&amp;how=up&amp;goto=news'><div class='votearrow' title='upvote'></div></a></center></td><td class=\"title\"><a href=\"https://www.nextdns.io/\" class=\"storylink\">Show HN: nextdns.io – A Combination of Cloudflare DNS and Pi-Hole</a><span class=\"sitebit comhead\"> (<a href=\"from?site=nextdns.io\"><span class=\"sitestr\">nextdns.io</span></a>)</span></td></tr><tr><td colspan=\"2\"></td><td class=\"subtext\">\n",
      "        <span class=\"score\" id=\"score_20012687\">302 points</span> by <a href=\"user?id=nextdns\" class=\"hnuser\">nextdns</a> <span class=\"age\"><a href=\"item?id=20012687\">16 hours ago</a></span> <span id=\"unv_20012687\"></span> | <a href=\"hide?id=20012687&amp;goto=news\">hide</a> | <a href=\"item?id=20012687\">122&nbsp;comments</a>              </td></tr>\n",
      "      <tr class=\"spacer\" style=\"height:5px\"></tr>\n",
      "                <tr class='athing' id='20014962'>\n",
      "      <td align=\"right\" valign=\"top\" class=\"title\"><span class=\"rank\">28.</span></td>      <td valign=\"top\" class=\"votelinks\"><center><a id='up_20014962' href='vote?id=20014962&amp;how=up&amp;goto=news'><div class='votearrow' title='upvote'></div></a></center></td><td class=\"title\"><a href=\"https://medium.com/@GreatUX/buttons-placement-and-order-bb1c4abadfcb\" class=\"storylink\">Buttons on the Web: Placement and Order</a><span class=\"sitebit comhead\"> (<a href=\"from?site=medium.com\"><span class=\"sitestr\">medium.com</span></a>)</span></td></tr><tr><td colspan=\"2\"></td><td class=\"subtext\">\n",
      "        <span class=\"score\" id=\"score_20014962\">36 points</span> by <a href=\"user?id=wx196\" class=\"hnuser\">wx196</a> <span class=\"age\"><a href=\"item?id=20014962\">4 hours ago</a></span> <span id=\"unv_20014962\"></span> | <a href=\"hide?id=20014962&amp;goto=news\">hide</a> | <a href=\"item?id=20014962\">10&nbsp;comments</a>              </td></tr>\n",
      "      <tr class=\"spacer\" style=\"height:5px\"></tr>\n",
      "                <tr class='athing' id='20012977'>\n",
      "      <td align=\"right\" valign=\"top\" class=\"title\"><span class=\"rank\">29.</span></td>      <td valign=\"top\" class=\"votelinks\"><center><a id='up_20012977' href='vote?id=20012977&amp;how=up&amp;goto=news'><div class='votearrow' title='upvote'></div></a></center></td><td class=\"title\"><a href=\"https://www.telnetbbsguide.com/\" class=\"storylink\">Telnet BBS Guide</a><span class=\"sitebit comhead\"> (<a href=\"from?site=telnetbbsguide.com\"><span class=\"sitestr\">telnetbbsguide.com</span></a>)</span></td></tr><tr><td colspan=\"2\"></td><td class=\"subtext\">\n",
      "        <span class=\"score\" id=\"score_20012977\">54 points</span> by <a href=\"user?id=mindcrime\" class=\"hnuser\">mindcrime</a> <span class=\"age\"><a href=\"item?id=20012977\">14 hours ago</a></span> <span id=\"unv_20012977\"></span> | <a href=\"hide?id=20012977&amp;goto=news\">hide</a> | <a href=\"item?id=20012977\">19&nbsp;comments</a>              </td></tr>\n",
      "      <tr class=\"spacer\" style=\"height:5px\"></tr>\n",
      "                <tr class='athing' id='20014349'>\n",
      "      <td align=\"right\" valign=\"top\" class=\"title\"><span class=\"rank\">30.</span></td>      <td valign=\"top\" class=\"votelinks\"><center><a id='up_20014349' href='vote?id=20014349&amp;how=up&amp;goto=news'><div class='votearrow' title='upvote'></div></a></center></td><td class=\"title\"><a href=\"https://www.nature.com/articles/s41558-019-0474-0\" class=\"storylink\">Nudging out support for a carbon tax</a><span class=\"sitebit comhead\"> (<a href=\"from?site=nature.com\"><span class=\"sitestr\">nature.com</span></a>)</span></td></tr><tr><td colspan=\"2\"></td><td class=\"subtext\">\n",
      "        <span class=\"score\" id=\"score_20014349\">76 points</span> by <a href=\"user?id=colinprince\" class=\"hnuser\">colinprince</a> <span class=\"age\"><a href=\"item?id=20014349\">6 hours ago</a></span> <span id=\"unv_20014349\"></span> | <a href=\"hide?id=20014349&amp;goto=news\">hide</a> | <a href=\"item?id=20014349\">74&nbsp;comments</a>              </td></tr>\n",
      "      <tr class=\"spacer\" style=\"height:5px\"></tr>\n",
      "            <tr class=\"morespace\" style=\"height:10px\"></tr><tr><td colspan=\"2\"></td><td class=\"title\"><a href=\"news?p=2\" class=\"morelink\" rel=\"next\">More</a></td></tr>\n",
      "  </table>\n",
      "</td></tr>\n",
      "<tr><td><img src=\"s.gif\" height=\"10\" width=\"0\"><table width=\"100%\" cellspacing=\"0\" cellpadding=\"1\"><tr><td bgcolor=\"#ff6600\"></td></tr></table><br><center><span class=\"yclinks\"><a href=\"newsguidelines.html\">Guidelines</a>\n",
      "        | <a href=\"newsfaq.html\">FAQ</a>\n",
      "        | <a href=\"mailto:hn@ycombinator.com\">Support</a>\n",
      "        | <a href=\"https://github.com/HackerNews/API\">API</a>\n",
      "        | <a href=\"security.html\">Security</a>\n",
      "        | <a href=\"lists\">Lists</a>\n",
      "        | <a href=\"bookmarklet.html\" rel=\"nofollow\">Bookmarklet</a>\n",
      "        | <a href=\"http://www.ycombinator.com/legal/\">Legal</a>\n",
      "        | <a href=\"http://www.ycombinator.com/apply/\">Apply to YC</a>\n",
      "        | <a href=\"mailto:hn@ycombinator.com\">Contact</a></span><br><br><form method=\"get\" action=\"//hn.algolia.com/\">Search:\n",
      "          <input type=\"text\" name=\"q\" value=\"\" size=\"17\" autocorrect=\"off\" spellcheck=\"false\" autocapitalize=\"off\" autocomplete=\"false\"></form>\n",
      "            </center></td></tr>\n",
      "      </table></center></body><script type='text/javascript' src='hn.js?JVR7p5qVqgl735PBfFQB'></script>\n",
      "  </html>\n",
      "\n"
     ]
    }
   ],
   "source": [
    "import requests\n",
    "\n",
    "# Fetch a web page\n",
    "r = requests.get(\"https://news.ycombinator.com\")\n",
    "print(r.text)"
   ]
  },
  {
   "cell_type": "code",
   "execution_count": 5,
   "metadata": {},
   "outputs": [
    {
     "name": "stdout",
     "output_type": "stream",
     "text": [
      "\n",
      "            \n",
      "          \n",
      "        Hacker News\n",
      "        \n",
      "                  Hacker News\n",
      "              new | past | comments | ask | show | jobs | submit            \n",
      "                              login\n",
      "                          \n",
      "              \n",
      "\n",
      "              \n",
      "      1.      How Fragmented Is Android? (eggonomy.com)\n",
      "        42 points by tgp22 1 hour ago  | hide | 22&nbsp;comments              \n",
      "      \n",
      "                \n",
      "      2.      React SVG Drawing Library (github.com)\n",
      "        21 points by kmkzt927 50 minutes ago  | hide | 4&nbsp;comments              \n",
      "      \n",
      "                \n",
      "      3.      Intel Announces 8 Core I9-9900KS: Every Core at 5Ghz, All the Time (anandtech.com)\n",
      "        81 points by Doubleguitars 2 hours ago  | hide | 66&nbsp;comments              \n",
      "      \n",
      "                \n",
      "      4.      Knowledge Extraction from Unstructured Texts (heuritech.com)\n",
      "        104 points by homarp 3 hours ago  | hide | 6&nbsp;comments              \n",
      "      \n",
      "                \n",
      "      5.      RCE Without Native Code: Exploitation of a Write-What-Where in Internet Explorer (thezdi.com)\n",
      "        18 points by twoodfin 1 hour ago  | hide | discuss              \n",
      "      \n",
      "                \n",
      "      6.      What the Royal Astronomical Society in 1884 Tells Us About Python Today (typesandtimes.net)\n",
      "        91 points by skilpat 5 hours ago  | hide | 25&nbsp;comments              \n",
      "      \n",
      "                \n",
      "      7.      Ask HN: How do I make sure my non-technical parents are safe online?\n",
      "        57 points by nellypat 1 hour ago  | hide | 48&nbsp;comments              \n",
      "      \n",
      "                \n",
      "      8.      Twitter accounts are being hijacked for spam (shkspr.mobi)\n",
      "        101 points by edent 6 hours ago  | hide | 28&nbsp;comments              \n",
      "      \n",
      "                \n",
      "      9.      Logical fallacies in software engineering (artur-martsinkovskyi.github.io)\n",
      "        132 points by gentleterror 8 hours ago  | hide | 87&nbsp;comments              \n",
      "      \n",
      "                \n",
      "      10.      Managing Your Startup Board (bothsidesofthetable.com)\n",
      "        36 points by mooreds 5 hours ago  | hide | 1&nbsp;comment              \n",
      "      \n",
      "                \n",
      "      11.      Scotland to House Largest Tidal Turbine (digit.fyi)\n",
      "        68 points by digighoul 7 hours ago  | hide | 15&nbsp;comments              \n",
      "      \n",
      "                \n",
      "      12.      Why Fiction Beats Truth (nytimes.com)\n",
      "        8 points by tlb 2 hours ago  | hide | 1&nbsp;comment              \n",
      "      \n",
      "                \n",
      "      13.      Google's New Manager Student Workbook (docs.google.com)\n",
      "        20 points by hliyan 1 hour ago  | hide | 1&nbsp;comment              \n",
      "      \n",
      "                \n",
      "      14.      Recursive Make Considered Harmful (1997) [pdf] (sourceforge.net)\n",
      "        43 points by Tomte 6 hours ago  | hide | 31&nbsp;comments              \n",
      "      \n",
      "                \n",
      "      15.      Using Anki and Spaced Repetition (getpolarized.io)\n",
      "        100 points by burtonator 2 hours ago  | hide | 34&nbsp;comments              \n",
      "      \n",
      "                \n",
      "      16.      Propofol-induced deep sedation reduces emotional episodic memory reconsolidation (sciencemag.org)\n",
      "        104 points by danieltillett 10 hours ago  | hide | 62&nbsp;comments              \n",
      "      \n",
      "                \n",
      "      17.      Suburban moms are delivering groceries (npr.org)\n",
      "        33 points by hhs 2 hours ago  | hide | 37&nbsp;comments              \n",
      "      \n",
      "                \n",
      "      18.      Byte Magazine – LISP (1979) (archive.org)\n",
      "        155 points by tosh 14 hours ago  | hide | 56&nbsp;comments              \n",
      "      \n",
      "                \n",
      "      19.      Professional astronomers are calculating the cost of the Starlink constellation (twitter.com)\n",
      "        37 points by ColinWright 1 hour ago  | hide | 28&nbsp;comments              \n",
      "      \n",
      "                \n",
      "      20.      Liberal America’s Single-Family Hypocrisy (thenation.com)\n",
      "        12 points by johnny313 58 minutes ago  | hide | discuss              \n",
      "      \n",
      "                \n",
      "      21.      Hubble spies curious galaxy moving a little closer (phys.org)\n",
      "        10 points by dnetesn 4 hours ago  | hide | discuss              \n",
      "      \n",
      "                \n",
      "      22.      Mino Games (YC W11) Is Hiring Senior Engineers in Montreal, QC (workable.com)\n",
      "        2 hours ago | hide      \n",
      "      \n",
      "                \n",
      "      23.      The 25¢ Apple II Real Time Clock (1981) (atarimagazines.com)\n",
      "        53 points by lisper 11 hours ago  | hide | 44&nbsp;comments              \n",
      "      \n",
      "                \n",
      "      24.      Bob Widlar – The Life of an Engineering Legend (autodesk.com)\n",
      "        30 points by steven741 7 hours ago  | hide | 6&nbsp;comments              \n",
      "      \n",
      "                \n",
      "      25.      Self-distancing can help you make better decisions (effectiviology.com)\n",
      "        407 points by EndXA 19 hours ago  | hide | 100&nbsp;comments              \n",
      "      \n",
      "                \n",
      "      26.      Bose headphones spy on listeners: lawsuit (2017) (reuters.com)\n",
      "        229 points by 88840-8855 10 hours ago  | hide | 128&nbsp;comments              \n",
      "      \n",
      "                \n",
      "      27.      Show HN: nextdns.io – A Combination of Cloudflare DNS and Pi-Hole (nextdns.io)\n",
      "        302 points by nextdns 16 hours ago  | hide | 122&nbsp;comments              \n",
      "      \n",
      "                \n",
      "      28.      Buttons on the Web: Placement and Order (medium.com)\n",
      "        36 points by wx196 4 hours ago  | hide | 10&nbsp;comments              \n",
      "      \n",
      "                \n",
      "      29.      Telnet BBS Guide (telnetbbsguide.com)\n",
      "        54 points by mindcrime 14 hours ago  | hide | 19&nbsp;comments              \n",
      "      \n",
      "                \n",
      "      30.      Nudging out support for a carbon tax (nature.com)\n",
      "        76 points by colinprince 6 hours ago  | hide | 74&nbsp;comments              \n",
      "      \n",
      "            More\n",
      "  \n",
      "\n",
      "Guidelines\n",
      "        | FAQ\n",
      "        | Support\n",
      "        | API\n",
      "        | Security\n",
      "        | Lists\n",
      "        | Bookmarklet\n",
      "        | Legal\n",
      "        | Apply to YC\n",
      "        | ContactSearch:\n",
      "          \n",
      "            \n",
      "      \n",
      "  \n",
      "\n"
     ]
    }
   ],
   "source": [
    "import re\n",
    "\n",
    "# Remove HTML tags using RegEx\n",
    "pattern = re.compile(r'<.*?>')  # tags look like <...>\n",
    "print(pattern.sub('', r.text))  # replace them with blank"
   ]
  },
  {
   "cell_type": "code",
   "execution_count": 6,
   "metadata": {},
   "outputs": [
    {
     "name": "stdout",
     "output_type": "stream",
     "text": [
      "\n",
      "            \n",
      "          \n",
      "        Hacker News\n",
      "        \n",
      "                  Hacker News\n",
      "              new | past | comments | ask | show | jobs | submit            \n",
      "                              login\n",
      "                          \n",
      "              \n",
      "\n",
      "              \n",
      "      1.      How Fragmented Is Android? (eggonomy.com)\n",
      "        42 points by tgp22 1 hour ago  | hide | 22 comments              \n",
      "      \n",
      "                \n",
      "      2.      React SVG Drawing Library (github.com)\n",
      "        21 points by kmkzt927 50 minutes ago  | hide | 4 comments              \n",
      "      \n",
      "                \n",
      "      3.      Intel Announces 8 Core I9-9900KS: Every Core at 5Ghz, All the Time (anandtech.com)\n",
      "        81 points by Doubleguitars 2 hours ago  | hide | 66 comments              \n",
      "      \n",
      "                \n",
      "      4.      Knowledge Extraction from Unstructured Texts (heuritech.com)\n",
      "        104 points by homarp 3 hours ago  | hide | 6 comments              \n",
      "      \n",
      "                \n",
      "      5.      RCE Without Native Code: Exploitation of a Write-What-Where in Internet Explorer (thezdi.com)\n",
      "        18 points by twoodfin 1 hour ago  | hide | discuss              \n",
      "      \n",
      "                \n",
      "      6.      What the Royal Astronomical Society in 1884 Tells Us About Python Today (typesandtimes.net)\n",
      "        91 points by skilpat 5 hours ago  | hide | 25 comments              \n",
      "      \n",
      "                \n",
      "      7.      Ask HN: How do I make sure my non-technical parents are safe online?\n",
      "        57 points by nellypat 1 hour ago  | hide | 48 comments              \n",
      "      \n",
      "                \n",
      "      8.      Twitter accounts are being hijacked for spam (shkspr.mobi)\n",
      "        101 points by edent 6 hours ago  | hide | 28 comments              \n",
      "      \n",
      "                \n",
      "      9.      Logical fallacies in software engineering (artur-martsinkovskyi.github.io)\n",
      "        132 points by gentleterror 8 hours ago  | hide | 87 comments              \n",
      "      \n",
      "                \n",
      "      10.      Managing Your Startup Board (bothsidesofthetable.com)\n",
      "        36 points by mooreds 5 hours ago  | hide | 1 comment              \n",
      "      \n",
      "                \n",
      "      11.      Scotland to House Largest Tidal Turbine (digit.fyi)\n",
      "        68 points by digighoul 7 hours ago  | hide | 15 comments              \n",
      "      \n",
      "                \n",
      "      12.      Why Fiction Beats Truth (nytimes.com)\n",
      "        8 points by tlb 2 hours ago  | hide | 1 comment              \n",
      "      \n",
      "                \n",
      "      13.      Google's New Manager Student Workbook (docs.google.com)\n",
      "        20 points by hliyan 1 hour ago  | hide | 1 comment              \n",
      "      \n",
      "                \n",
      "      14.      Recursive Make Considered Harmful (1997) [pdf] (sourceforge.net)\n",
      "        43 points by Tomte 6 hours ago  | hide | 31 comments              \n",
      "      \n",
      "                \n",
      "      15.      Using Anki and Spaced Repetition (getpolarized.io)\n",
      "        100 points by burtonator 2 hours ago  | hide | 34 comments              \n",
      "      \n",
      "                \n",
      "      16.      Propofol-induced deep sedation reduces emotional episodic memory reconsolidation (sciencemag.org)\n",
      "        104 points by danieltillett 10 hours ago  | hide | 62 comments              \n",
      "      \n",
      "                \n",
      "      17.      Suburban moms are delivering groceries (npr.org)\n",
      "        33 points by hhs 2 hours ago  | hide | 37 comments              \n",
      "      \n",
      "                \n",
      "      18.      Byte Magazine – LISP (1979) (archive.org)\n",
      "        155 points by tosh 14 hours ago  | hide | 56 comments              \n",
      "      \n",
      "                \n",
      "      19.      Professional astronomers are calculating the cost of the Starlink constellation (twitter.com)\n",
      "        37 points by ColinWright 1 hour ago  | hide | 28 comments              \n",
      "      \n",
      "                \n",
      "      20.      Liberal America’s Single-Family Hypocrisy (thenation.com)\n",
      "        12 points by johnny313 58 minutes ago  | hide | discuss              \n",
      "      \n",
      "                \n",
      "      21.      Hubble spies curious galaxy moving a little closer (phys.org)\n",
      "        10 points by dnetesn 4 hours ago  | hide | discuss              \n",
      "      \n",
      "                \n",
      "      22.      Mino Games (YC W11) Is Hiring Senior Engineers in Montreal, QC (workable.com)\n",
      "        2 hours ago | hide      \n",
      "      \n",
      "                \n",
      "      23.      The 25¢ Apple II Real Time Clock (1981) (atarimagazines.com)\n",
      "        53 points by lisper 11 hours ago  | hide | 44 comments              \n",
      "      \n",
      "                \n",
      "      24.      Bob Widlar – The Life of an Engineering Legend (autodesk.com)\n",
      "        30 points by steven741 7 hours ago  | hide | 6 comments              \n",
      "      \n",
      "                \n",
      "      25.      Self-distancing can help you make better decisions (effectiviology.com)\n",
      "        407 points by EndXA 19 hours ago  | hide | 100 comments              \n",
      "      \n",
      "                \n",
      "      26.      Bose headphones spy on listeners: lawsuit (2017) (reuters.com)\n",
      "        229 points by 88840-8855 10 hours ago  | hide | 128 comments              \n",
      "      \n",
      "                \n",
      "      27.      Show HN: nextdns.io – A Combination of Cloudflare DNS and Pi-Hole (nextdns.io)\n",
      "        302 points by nextdns 16 hours ago  | hide | 122 comments              \n",
      "      \n",
      "                \n",
      "      28.      Buttons on the Web: Placement and Order (medium.com)\n",
      "        36 points by wx196 4 hours ago  | hide | 10 comments              \n",
      "      \n",
      "                \n",
      "      29.      Telnet BBS Guide (telnetbbsguide.com)\n",
      "        54 points by mindcrime 14 hours ago  | hide | 19 comments              \n",
      "      \n",
      "                \n",
      "      30.      Nudging out support for a carbon tax (nature.com)\n",
      "        76 points by colinprince 6 hours ago  | hide | 74 comments              \n",
      "      \n",
      "            More\n",
      "  \n",
      "\n",
      "Guidelines\n",
      "        | FAQ\n",
      "        | Support\n",
      "        | API\n",
      "        | Security\n",
      "        | Lists\n",
      "        | Bookmarklet\n",
      "        | Legal\n",
      "        | Apply to YC\n",
      "        | ContactSearch:\n",
      "          \n",
      "            \n",
      "      \n",
      "  \n",
      "\n"
     ]
    }
   ],
   "source": [
    "from bs4 import BeautifulSoup\n",
    "\n",
    "# Remove HTML tags using Beautiful Soup library\n",
    "soup = BeautifulSoup(r.text, \"html5lib\")\n",
    "print(soup.get_text())"
   ]
  },
  {
   "cell_type": "code",
   "execution_count": 7,
   "metadata": {
    "scrolled": true
   },
   "outputs": [
    {
     "data": {
      "text/plain": [
       "<tr class=\"athing\" id=\"20015968\">\n",
       "      <td align=\"right\" class=\"title\" valign=\"top\"><span class=\"rank\">1.</span></td>      <td class=\"votelinks\" valign=\"top\"><center><a href=\"vote?id=20015968&amp;how=up&amp;goto=news\" id=\"up_20015968\"><div class=\"votearrow\" title=\"upvote\"></div></a></center></td><td class=\"title\"><a class=\"storylink\" href=\"https://eggonomy.com/blogs/news/how-fragmented-is-android\">How Fragmented Is Android?</a><span class=\"sitebit comhead\"> (<a href=\"from?site=eggonomy.com\"><span class=\"sitestr\">eggonomy.com</span></a>)</span></td></tr>"
      ]
     },
     "execution_count": 7,
     "metadata": {},
     "output_type": "execute_result"
    }
   ],
   "source": [
    "# Find all articles\n",
    "summaries = soup.find_all(\"tr\", class_=\"athing\")\n",
    "summaries[0]"
   ]
  },
  {
   "cell_type": "code",
   "execution_count": 8,
   "metadata": {},
   "outputs": [
    {
     "data": {
      "text/plain": [
       "'How Fragmented Is Android?'"
      ]
     },
     "execution_count": 8,
     "metadata": {},
     "output_type": "execute_result"
    }
   ],
   "source": [
    "# Extract title\n",
    "summaries[0].find(\"a\", class_=\"storylink\").get_text().strip()"
   ]
  },
  {
   "cell_type": "code",
   "execution_count": 9,
   "metadata": {},
   "outputs": [
    {
     "name": "stdout",
     "output_type": "stream",
     "text": [
      "30 Article summaries found. Sample:\n",
      "How Fragmented Is Android?\n"
     ]
    }
   ],
   "source": [
    "# Find all articles, extract titles\n",
    "articles = []\n",
    "summaries = soup.find_all(\"tr\", class_=\"athing\")\n",
    "for summary in summaries:\n",
    "    title = summary.find(\"a\", class_=\"storylink\").get_text().strip()\n",
    "    articles.append((title))\n",
    "\n",
    "print(len(articles), \"Article summaries found. Sample:\")\n",
    "print(articles[0])"
   ]
  },
  {
   "cell_type": "markdown",
   "metadata": {
    "collapsed": true
   },
   "source": [
    "## Normalization"
   ]
  },
  {
   "cell_type": "markdown",
   "metadata": {},
   "source": [
    "### Case Normalization"
   ]
  },
  {
   "cell_type": "code",
   "execution_count": 10,
   "metadata": {},
   "outputs": [
    {
     "name": "stdout",
     "output_type": "stream",
     "text": [
      "The first time you see The Second Renaissance it may look boring. Look at it at least twice and definitely watch part 2. It will change your view of the matrix. Are the human people the ones who started the war ? Is AI a bad thing ?\n"
     ]
    }
   ],
   "source": [
    "# Sample text\n",
    "text = \"The first time you see The Second Renaissance it may look boring. Look at it at least twice and definitely watch part 2. It will change your view of the matrix. Are the human people the ones who started the war ? Is AI a bad thing ?\"\n",
    "print(text)"
   ]
  },
  {
   "cell_type": "code",
   "execution_count": 11,
   "metadata": {},
   "outputs": [
    {
     "name": "stdout",
     "output_type": "stream",
     "text": [
      "the first time you see the second renaissance it may look boring. look at it at least twice and definitely watch part 2. it will change your view of the matrix. are the human people the ones who started the war ? is ai a bad thing ?\n"
     ]
    }
   ],
   "source": [
    "# Convert to lowercase\n",
    "text = text.lower() \n",
    "print(text)"
   ]
  },
  {
   "cell_type": "markdown",
   "metadata": {},
   "source": [
    "### Punctuation Removal"
   ]
  },
  {
   "cell_type": "code",
   "execution_count": 12,
   "metadata": {},
   "outputs": [
    {
     "name": "stdout",
     "output_type": "stream",
     "text": [
      "the first time you see the second renaissance it may look boring  look at it at least twice and definitely watch part 2  it will change your view of the matrix  are the human people the ones who started the war   is ai a bad thing  \n"
     ]
    }
   ],
   "source": [
    "import re\n",
    "\n",
    "# Remove punctuation characters\n",
    "text = re.sub(r\"[^a-zA-Z0-9]\", \" \", text) \n",
    "print(text)"
   ]
  },
  {
   "cell_type": "markdown",
   "metadata": {},
   "source": [
    "## Tokenization"
   ]
  },
  {
   "cell_type": "code",
   "execution_count": 13,
   "metadata": {},
   "outputs": [
    {
     "name": "stdout",
     "output_type": "stream",
     "text": [
      "['the', 'first', 'time', 'you', 'see', 'the', 'second', 'renaissance', 'it', 'may', 'look', 'boring', 'look', 'at', 'it', 'at', 'least', 'twice', 'and', 'definitely', 'watch', 'part', '2', 'it', 'will', 'change', 'your', 'view', 'of', 'the', 'matrix', 'are', 'the', 'human', 'people', 'the', 'ones', 'who', 'started', 'the', 'war', 'is', 'ai', 'a', 'bad', 'thing']\n"
     ]
    }
   ],
   "source": [
    "# Split text into tokens (words)\n",
    "words = text.split()\n",
    "print(words)"
   ]
  },
  {
   "cell_type": "markdown",
   "metadata": {},
   "source": [
    "### NLTK: Natural Language ToolKit"
   ]
  },
  {
   "cell_type": "code",
   "execution_count": 14,
   "metadata": {},
   "outputs": [],
   "source": [
    "import os\n",
    "import nltk\n",
    "nltk.data.path.append(os.path.join(os.getcwd(), \"nltk_data\"))"
   ]
  },
  {
   "cell_type": "code",
   "execution_count": 15,
   "metadata": {},
   "outputs": [
    {
     "name": "stdout",
     "output_type": "stream",
     "text": [
      "Dr. Smith graduated from the University of Washington. He later started an analytics firm called Lux, which catered to enterprise customers.\n"
     ]
    }
   ],
   "source": [
    "# Another sample text\n",
    "text = \"Dr. Smith graduated from the University of Washington. He later started an analytics firm called Lux, which catered to enterprise customers.\"\n",
    "print(text)"
   ]
  },
  {
   "cell_type": "code",
   "execution_count": 16,
   "metadata": {},
   "outputs": [
    {
     "name": "stdout",
     "output_type": "stream",
     "text": [
      "['Dr.', 'Smith', 'graduated', 'from', 'the', 'University', 'of', 'Washington', '.', 'He', 'later', 'started', 'an', 'analytics', 'firm', 'called', 'Lux', ',', 'which', 'catered', 'to', 'enterprise', 'customers', '.']\n"
     ]
    }
   ],
   "source": [
    "from nltk.tokenize import word_tokenize\n",
    "\n",
    "# Split text into words using NLTK\n",
    "words = word_tokenize(text)\n",
    "print(words)"
   ]
  },
  {
   "cell_type": "code",
   "execution_count": 17,
   "metadata": {},
   "outputs": [
    {
     "name": "stdout",
     "output_type": "stream",
     "text": [
      "['Dr. Smith graduated from the University of Washington.', 'He later started an analytics firm called Lux, which catered to enterprise customers.']\n"
     ]
    }
   ],
   "source": [
    "from nltk.tokenize import sent_tokenize\n",
    "\n",
    "# Split text into sentences\n",
    "sentences = sent_tokenize(text)\n",
    "print(sentences)"
   ]
  },
  {
   "cell_type": "code",
   "execution_count": 18,
   "metadata": {},
   "outputs": [
    {
     "name": "stdout",
     "output_type": "stream",
     "text": [
      "['i', 'me', 'my', 'myself', 'we', 'our', 'ours', 'ourselves', 'you', \"you're\", \"you've\", \"you'll\", \"you'd\", 'your', 'yours', 'yourself', 'yourselves', 'he', 'him', 'his', 'himself', 'she', \"she's\", 'her', 'hers', 'herself', 'it', \"it's\", 'its', 'itself', 'they', 'them', 'their', 'theirs', 'themselves', 'what', 'which', 'who', 'whom', 'this', 'that', \"that'll\", 'these', 'those', 'am', 'is', 'are', 'was', 'were', 'be', 'been', 'being', 'have', 'has', 'had', 'having', 'do', 'does', 'did', 'doing', 'a', 'an', 'the', 'and', 'but', 'if', 'or', 'because', 'as', 'until', 'while', 'of', 'at', 'by', 'for', 'with', 'about', 'against', 'between', 'into', 'through', 'during', 'before', 'after', 'above', 'below', 'to', 'from', 'up', 'down', 'in', 'out', 'on', 'off', 'over', 'under', 'again', 'further', 'then', 'once', 'here', 'there', 'when', 'where', 'why', 'how', 'all', 'any', 'both', 'each', 'few', 'more', 'most', 'other', 'some', 'such', 'no', 'nor', 'not', 'only', 'own', 'same', 'so', 'than', 'too', 'very', 's', 't', 'can', 'will', 'just', 'don', \"don't\", 'should', \"should've\", 'now', 'd', 'll', 'm', 'o', 're', 've', 'y', 'ain', 'aren', \"aren't\", 'couldn', \"couldn't\", 'didn', \"didn't\", 'doesn', \"doesn't\", 'hadn', \"hadn't\", 'hasn', \"hasn't\", 'haven', \"haven't\", 'isn', \"isn't\", 'ma', 'mightn', \"mightn't\", 'mustn', \"mustn't\", 'needn', \"needn't\", 'shan', \"shan't\", 'shouldn', \"shouldn't\", 'wasn', \"wasn't\", 'weren', \"weren't\", 'won', \"won't\", 'wouldn', \"wouldn't\"]\n"
     ]
    }
   ],
   "source": [
    "# List stop words\n",
    "from nltk.corpus import stopwords\n",
    "print(stopwords.words(\"english\"))"
   ]
  },
  {
   "cell_type": "code",
   "execution_count": 19,
   "metadata": {},
   "outputs": [
    {
     "name": "stdout",
     "output_type": "stream",
     "text": [
      "['the', 'first', 'time', 'you', 'see', 'the', 'second', 'renaissance', 'it', 'may', 'look', 'boring', 'look', 'at', 'it', 'at', 'least', 'twice', 'and', 'definitely', 'watch', 'part', '2', 'it', 'will', 'change', 'your', 'view', 'of', 'the', 'matrix', 'are', 'the', 'human', 'people', 'the', 'ones', 'who', 'started', 'the', 'war', 'is', 'ai', 'a', 'bad', 'thing']\n"
     ]
    }
   ],
   "source": [
    "# Reset text\n",
    "text = \"The first time you see The Second Renaissance it may look boring. Look at it at least twice and definitely watch part 2. It will change your view of the matrix. Are the human people the ones who started the war ? Is AI a bad thing ?\"\n",
    "\n",
    "# Normalize it\n",
    "text = re.sub(r\"[^a-zA-Z0-9]\", \" \", text.lower())\n",
    "\n",
    "# Tokenize it\n",
    "words = text.split()\n",
    "print(words)"
   ]
  },
  {
   "cell_type": "code",
   "execution_count": 20,
   "metadata": {},
   "outputs": [
    {
     "name": "stdout",
     "output_type": "stream",
     "text": [
      "['first', 'time', 'see', 'second', 'renaissance', 'may', 'look', 'boring', 'look', 'least', 'twice', 'definitely', 'watch', 'part', '2', 'change', 'view', 'matrix', 'human', 'people', 'ones', 'started', 'war', 'ai', 'bad', 'thing']\n"
     ]
    }
   ],
   "source": [
    "# Remove stop words\n",
    "words = [w for w in words if w not in stopwords.words(\"english\")]\n",
    "print(words)"
   ]
  },
  {
   "cell_type": "markdown",
   "metadata": {},
   "source": [
    "### Sentence Parsing"
   ]
  },
  {
   "cell_type": "code",
   "execution_count": 21,
   "metadata": {},
   "outputs": [
    {
     "name": "stdout",
     "output_type": "stream",
     "text": [
      "(S\n",
      "  (NP I)\n",
      "  (VP\n",
      "    (VP (V shot) (NP (Det an) (N elephant)))\n",
      "    (PP (P in) (NP (Det my) (N pajamas)))))\n",
      "(S\n",
      "  (NP I)\n",
      "  (VP\n",
      "    (V shot)\n",
      "    (NP (Det an) (N elephant) (PP (P in) (NP (Det my) (N pajamas))))))\n"
     ]
    }
   ],
   "source": [
    "import nltk\n",
    "\n",
    "# Define a custom grammar\n",
    "my_grammar = nltk.CFG.fromstring(\"\"\"\n",
    "S -> NP VP\n",
    "PP -> P NP\n",
    "NP -> Det N | Det N PP | 'I'\n",
    "VP -> V NP | VP PP\n",
    "Det -> 'an' | 'my'\n",
    "N -> 'elephant' | 'pajamas'\n",
    "V -> 'shot'\n",
    "P -> 'in'\n",
    "\"\"\")\n",
    "parser = nltk.ChartParser(my_grammar)\n",
    "\n",
    "# Parse a sentence\n",
    "sentence = word_tokenize(\"I shot an elephant in my pajamas\")\n",
    "for tree in parser.parse(sentence):\n",
    "    print(tree)"
   ]
  },
  {
   "cell_type": "markdown",
   "metadata": {},
   "source": [
    "## Stemming & Lemmatization\n",
    "\n",
    "### Stemming"
   ]
  },
  {
   "cell_type": "code",
   "execution_count": 22,
   "metadata": {},
   "outputs": [
    {
     "name": "stdout",
     "output_type": "stream",
     "text": [
      "['first', 'time', 'see', 'second', 'renaiss', 'may', 'look', 'bore', 'look', 'least', 'twice', 'definit', 'watch', 'part', '2', 'chang', 'view', 'matrix', 'human', 'peopl', 'one', 'start', 'war', 'ai', 'bad', 'thing']\n"
     ]
    }
   ],
   "source": [
    "from nltk.stem.porter import PorterStemmer\n",
    "\n",
    "# Reduce words to their stems\n",
    "stemmed = [PorterStemmer().stem(w) for w in words]\n",
    "print(stemmed)"
   ]
  },
  {
   "cell_type": "markdown",
   "metadata": {},
   "source": [
    "### Lemmatization"
   ]
  },
  {
   "cell_type": "code",
   "execution_count": 23,
   "metadata": {},
   "outputs": [
    {
     "name": "stdout",
     "output_type": "stream",
     "text": [
      "['first', 'time', 'see', 'second', 'renaissance', 'may', 'look', 'boring', 'look', 'least', 'twice', 'definitely', 'watch', 'part', '2', 'change', 'view', 'matrix', 'human', 'people', 'one', 'started', 'war', 'ai', 'bad', 'thing']\n"
     ]
    }
   ],
   "source": [
    "from nltk.stem.wordnet import WordNetLemmatizer\n",
    "\n",
    "# Reduce words to their root form\n",
    "lemmed = [WordNetLemmatizer().lemmatize(w) for w in words]\n",
    "print(lemmed)"
   ]
  },
  {
   "cell_type": "code",
   "execution_count": 24,
   "metadata": {},
   "outputs": [
    {
     "name": "stdout",
     "output_type": "stream",
     "text": [
      "['first', 'time', 'see', 'second', 'renaissance', 'may', 'look', 'bore', 'look', 'least', 'twice', 'definitely', 'watch', 'part', '2', 'change', 'view', 'matrix', 'human', 'people', 'one', 'start', 'war', 'ai', 'bad', 'thing']\n"
     ]
    }
   ],
   "source": [
    "# Lemmatize verbs by specifying pos\n",
    "lemmed = [WordNetLemmatizer().lemmatize(w, pos='v') for w in lemmed]\n",
    "print(lemmed)"
   ]
  },
  {
   "cell_type": "code",
   "execution_count": null,
   "metadata": {},
   "outputs": [],
   "source": []
  }
 ],
 "metadata": {
  "kernelspec": {
   "display_name": "Python 3",
   "language": "python",
   "name": "python3"
  },
  "language_info": {
   "codemirror_mode": {
    "name": "ipython",
    "version": 3
   },
   "file_extension": ".py",
   "mimetype": "text/x-python",
   "name": "python",
   "nbconvert_exporter": "python",
   "pygments_lexer": "ipython3",
   "version": "3.6.3"
  }
 },
 "nbformat": 4,
 "nbformat_minor": 2
}
